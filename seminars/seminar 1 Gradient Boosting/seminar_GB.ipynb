{
 "cells": [
  {
   "cell_type": "markdown",
   "metadata": {
    "colab_type": "text",
    "id": "VHc1eQ87cTXC"
   },
   "source": [
    "<a href=\"https://colab.research.google.com/github/adasegroup/ML2021_seminars/blob/master/seminar7/seminar_GB.ipynb\" target=\"_parent\"><img src=\"https://colab.research.google.com/assets/colab-badge.svg\" alt=\"Open In Colab\"/></a>"
   ]
  },
  {
   "cell_type": "markdown",
   "metadata": {
    "colab_type": "text",
    "id": "8SBTW7jZcTXF"
   },
   "source": [
    "# Seminar: Gradient Boosting\n",
    "Course: Machine Learning by professor Evgeny Burnaev\n",
    "<br>\n",
    "Author: Andrey Lange"
   ]
  },
  {
   "cell_type": "markdown",
   "metadata": {
    "colab_type": "text",
    "id": "duezzdlyhUqS"
   },
   "source": [
    "### The problem statement\n"
   ]
  },
  {
   "cell_type": "markdown",
   "metadata": {
    "colab_type": "text",
    "id": "_rZVv6TzdvZ4"
   },
   "source": [
    "The solution is found in the form of sum over random trees $h_m(x)$,\n",
    "$$F(x) = \\sum_{m=1}^{M} h_m(x).$$\n",
    "\n",
    "The additive model is built in a greedy fashion:\n",
    "$$f_m(x) = f_{m-1}(x) + h_m(x).$$\n",
    "\n",
    "Having loss function $L(y, f)$, we find every new tree from the optimization\n",
    "$$h_m =  \\arg\\min_{h} \\sum_{i=1}^{n} L(y_i, f_{m-1}(x_i) + h(x_i)).$$\n",
    "\n",
    "\n",
    "\n",
    "\n",
    "\n",
    "\n",
    "\n"
   ]
  },
  {
   "cell_type": "markdown",
   "metadata": {
    "colab_type": "text",
    "id": "PblcHpTGhbqq"
   },
   "source": [
    "### How the problem is solved\n"
   ]
  },
  {
   "cell_type": "markdown",
   "metadata": {
    "colab_type": "text",
    "id": "bJY6lpLQiGLX"
   },
   "source": [
    "Linear approximation of loss function $L(y, f)$ and the gradient descent method:\n",
    "\n",
    "$$\\gamma_m = \\arg\\min_{\\gamma} \\sum_{i=1}^{n} L(y_i, f_{m-1}(x_i)\n",
    "- \\gamma \\frac{\\partial L(y_i, f_{m-1}(x_i))}{\\partial f_{m-1}(x_i)}).$$\n",
    "\n",
    "A random tree $h(x)$ is fit to targets that are the gradients $\\quad -\\frac{\\partial L(y_i, f_{m-1}(x_i))}{\\partial f_{m-1}(x_i)}.$\n",
    "\n",
    "A new tree is added to the approximation with optimal $\\gamma_m$ and additional shrinkage $\\nu$:\n",
    "\n",
    "$$f_m(x) = f_{m-1}(x) + \\nu \\gamma_m h_m(x).$$\n",
    "\n",
    "The initial model $f_0(x)$ is problem specific, for least-squares regression one usually chooses the mean of the target values.\n",
    "\n"
   ]
  },
  {
   "cell_type": "code",
   "execution_count": 1,
   "metadata": {
    "colab": {},
    "colab_type": "code",
    "id": "J-hogeRtcTXH"
   },
   "outputs": [
    {
     "name": "stdout",
     "output_type": "stream",
     "text": [
      "Collecting catboost\n",
      "  Downloading catboost-0.24.4-cp37-none-macosx_10_6_intel.macosx_10_9_intel.macosx_10_9_x86_64.macosx_10_10_intel.macosx_10_10_x86_64.whl (11.1 MB)\n",
      "\u001b[K     |████████████████████████████████| 11.1 MB 8.1 MB/s eta 0:00:01\n",
      "\u001b[?25hCollecting graphviz\n",
      "  Downloading graphviz-0.16-py2.py3-none-any.whl (19 kB)\n",
      "Requirement already satisfied: numpy>=1.16.0 in /anaconda3/lib/python3.7/site-packages (from catboost) (1.18.1)\n",
      "Requirement already satisfied: matplotlib in /anaconda3/lib/python3.7/site-packages (from catboost) (3.0.2)\n",
      "Collecting pandas>=0.24.0\n",
      "  Downloading pandas-1.2.2-cp37-cp37m-macosx_10_9_x86_64.whl (10.4 MB)\n",
      "\u001b[K     |████████████████████████████████| 10.4 MB 6.6 MB/s eta 0:00:01\n",
      "\u001b[?25hCollecting plotly\n",
      "  Downloading plotly-4.14.3-py2.py3-none-any.whl (13.2 MB)\n",
      "\u001b[K     |████████████████████████████████| 13.2 MB 8.9 MB/s eta 0:00:01\n",
      "\u001b[?25hRequirement already satisfied: six in /anaconda3/lib/python3.7/site-packages (from catboost) (1.12.0)\n",
      "Requirement already satisfied: scipy in /anaconda3/lib/python3.7/site-packages (from catboost) (1.4.1)\n",
      "Requirement already satisfied: cycler>=0.10 in /anaconda3/lib/python3.7/site-packages (from matplotlib->catboost) (0.10.0)\n",
      "Requirement already satisfied: kiwisolver>=1.0.1 in /anaconda3/lib/python3.7/site-packages (from matplotlib->catboost) (1.0.1)\n",
      "Requirement already satisfied: pyparsing!=2.0.4,!=2.1.2,!=2.1.6,>=2.0.1 in /anaconda3/lib/python3.7/site-packages (from matplotlib->catboost) (2.3.0)\n",
      "Requirement already satisfied: python-dateutil>=2.1 in /anaconda3/lib/python3.7/site-packages (from matplotlib->catboost) (2.7.5)\n",
      "Requirement already satisfied: pytz>=2017.3 in /anaconda3/lib/python3.7/site-packages (from pandas>=0.24.0->catboost) (2018.7)\n",
      "Collecting retrying>=1.3.3\n",
      "  Downloading retrying-1.3.3.tar.gz (10 kB)\n",
      "Requirement already satisfied: setuptools in /anaconda3/lib/python3.7/site-packages (from kiwisolver>=1.0.1->matplotlib->catboost) (40.6.3)\n",
      "Building wheels for collected packages: retrying\n",
      "  Building wheel for retrying (setup.py) ... \u001b[?25ldone\n",
      "\u001b[?25h  Created wheel for retrying: filename=retrying-1.3.3-py3-none-any.whl size=11430 sha256=bf0c6151547b40cfc0f2ac3622456d215dc42906b3367b8e3e66a19d0b1006a6\n",
      "  Stored in directory: /Users/ninam/Library/Caches/pip/wheels/f9/8d/8d/f6af3f7f9eea3553bc2fe6d53e4b287dad18b06a861ac56ddf\n",
      "Successfully built retrying\n",
      "Installing collected packages: graphviz, pandas, retrying, plotly, catboost\n",
      "  Attempting uninstall: pandas\n",
      "    Found existing installation: pandas 0.23.4\n",
      "    Uninstalling pandas-0.23.4:\n",
      "      Successfully uninstalled pandas-0.23.4\n",
      "Successfully installed catboost-0.24.4 graphviz-0.16 pandas-1.2.2 plotly-4.14.3 retrying-1.3.3\n",
      "\u001b[33mWARNING: You are using pip version 20.2.2; however, version 21.0.1 is available.\n",
      "You should consider upgrading via the '/anaconda3/bin/python -m pip install --upgrade pip' command.\u001b[0m\n",
      "Requirement already satisfied: xgboost in /anaconda3/lib/python3.7/site-packages (0.90)\n",
      "Requirement already satisfied: scipy in /anaconda3/lib/python3.7/site-packages (from xgboost) (1.4.1)\n",
      "Requirement already satisfied: numpy in /anaconda3/lib/python3.7/site-packages (from xgboost) (1.18.1)\n",
      "\u001b[33mWARNING: You are using pip version 20.2.2; however, version 21.0.1 is available.\n",
      "You should consider upgrading via the '/anaconda3/bin/python -m pip install --upgrade pip' command.\u001b[0m\n"
     ]
    }
   ],
   "source": [
    "!pip install catboost\n",
    "!pip install xgboost\n",
    "!pip install -U scikit-learn\n",
    "\n",
    "import numpy as np\n",
    "import pandas as pd\n",
    "import matplotlib.pyplot as plt\n",
    "%matplotlib inline\n",
    "\n",
    "from sklearn.ensemble import GradientBoostingRegressor\n",
    "from sklearn.tree import DecisionTreeRegressor"
   ]
  },
  {
   "cell_type": "markdown",
   "metadata": {
    "colab_type": "text",
    "id": "dq6D_NWqcTXL"
   },
   "source": [
    "## Example 1: Gradient Boosting for regression"
   ]
  },
  {
   "cell_type": "code",
   "execution_count": 2,
   "metadata": {
    "colab": {},
    "colab_type": "code",
    "id": "MW_HdsyncTXM"
   },
   "outputs": [],
   "source": [
    "def get_dataset_1d():\n",
    "    # prepare dataset\n",
    "    n = 1                      # number of features\n",
    "    N = 100**n                 # number of samples\n",
    "    np.random.seed(0)\n",
    "    X = np.random.random((N, n))*3\n",
    "    coeffs = 1 +  2 * np.random.random((n, 1))\n",
    "    y = np.sin(np.matmul(X*X, coeffs)) + np.random.random((N, 1))/3\n",
    "    y = y.ravel()\n",
    "    \n",
    "    return (X, y)\n",
    "    \n",
    "def plot_results(X, y, y_pred, title=''):\n",
    "    plt.plot(X, y, '*b')\n",
    "    plt.plot(X, y_pred, '.r')\n",
    "    plt.title(title)\n",
    "    plt.xlabel('x1')\n",
    "    plt.ylabel('y')\n",
    "\n",
    "    plt.show()"
   ]
  },
  {
   "cell_type": "markdown",
   "metadata": {
    "colab_type": "text",
    "id": "mdF0Vb9vcTXP"
   },
   "source": [
    "\n",
    "---\n",
    "\n",
    "### Question 1.\n",
    "In the following example a Gradient Boosting regression is performed by only 1 tree and very small shrinkage `nu=1e-10`. The solution looks like a constant.\n",
    "\n",
    "1.1. Why it looks like a constant?\n",
    "<br>\n",
    "1.2. Try to find that constant value taking into account that `loss='ls'` and draw it on the same plot."
   ]
  },
  {
   "cell_type": "code",
   "execution_count": 3,
   "metadata": {
    "colab": {
     "base_uri": "https://localhost:8080/",
     "height": 279
    },
    "colab_type": "code",
    "id": "iUQSSADRcTXQ",
    "outputId": "10d4c746-9ef2-4ef4-c3d3-a5bfbbb4cf65",
    "scrolled": true
   },
   "outputs": [
    {
     "data": {
      "image/png": "[encoded data removed]",
      "text/plain": [
       "<Figure size 432x288 with 1 Axes>"
      ]
     },
     "metadata": {
      "needs_background": "light"
     },
     "output_type": "display_data"
    }
   ],
   "source": [
    "X, y = get_dataset_1d()\n",
    "\n",
    "clf = GradientBoostingRegressor(loss='lad', max_depth=1, learning_rate=1e-10, n_estimators=1) # learning rate = nu\n",
    "clf.fit(X, y)\n",
    "y_pred = clf.predict(X)\n",
    "\n",
    "plot_results(X, y, y_pred)"
   ]
  },
  {
   "cell_type": "markdown",
   "metadata": {
    "colab_type": "text",
    "id": "4z6MXN9TcTXT"
   },
   "source": [
    "\n",
    "---\n",
    "\n",
    "### Question 2. \n",
    "Solve above question for `loss='lad'`."
   ]
  },
  {
   "cell_type": "markdown",
   "metadata": {
    "colab_type": "text",
    "id": "H0x2u10TcTXV"
   },
   "source": [
    "\n",
    "---\n",
    "\n",
    "### Question 3. \n",
    "Some managers of industrial Data Science projects said me that each tree in Gradient Boosting is fit to the targets that are simply the differences $y_i-f_{m-1}(x_i)$ between the values $y_i$ and the current approximation $f_{m-1}(x_i)$ found on the previous step $m-1$. When is it correct?"
   ]
  },
  {
   "cell_type": "markdown",
   "metadata": {
    "colab_type": "text",
    "id": "SdD2dJaLcTXX"
   },
   "source": [
    "\n",
    "---\n",
    "\n",
    "### Question 4*. \n",
    "Actually, the managers from the question above said not only to what the trees are fit but also that the current solution is updated by simply adding each new tree multiplied by a shrinkage parameter and ignore any sophisticated math! :[]\n",
    "\n",
    "The following code shows 2 ways of using the Gradient Boosting for regression:\n",
    "1. Using the class `GradientBoostingRegressor()` - as it should be done if you use scikit-learn\n",
    "2. Our own implementation by adding a tree step by step with shrinkage\n",
    "\n",
    "Ensure that the pictures are the same no matter how you change the hyperparameters `max_depth`, `n_estimators` and `nu`!\n",
    "\n",
    "In our implementation we fit each tree to the targets $y_i-f_{m-1}(x_i)$ (if you answered on the above question you know that it is correct here) multiply by shrinkage $\\nu$ and add to the current model. But it seems that something is missing in our code. No matter how exactly the Gradient Boosting is implemented in scikit-learn, there are many slightly different variants. Assume that it is as described here https://scikit-learn.org/stable/modules/ensemble.html#mathematical-formulation, where the steepest descent chooses the optimal step length\n",
    "$$\n",
    "\\gamma_m = \\arg\\min_{\\gamma} \\sum_{i=1}^{n} \n",
    "L\n",
    "\\left(\n",
    "y_i, f_{m-1}(x_i)\n",
    "- \\gamma \\nabla_F L(y_i, f_{m-1}(x_i))\n",
    "\\right),\n",
    "$$\n",
    "which is used for the model update\n",
    "$$\n",
    "f_m(x) = f_{m-1}(x) - \\gamma_m \\sum_{i=1}^{n} \\nabla_F L(y_i, f_{m-1}(x_i)).\n",
    "$$\n",
    "But we did not implement it! Justify the correctness of our easy implementation of GB."
   ]
  },
  {
   "cell_type": "code",
   "execution_count": 4,
   "metadata": {
    "colab": {
     "base_uri": "https://localhost:8080/",
     "height": 573
    },
    "colab_type": "code",
    "id": "zWi2oLtQcTXY",
    "outputId": "b72cb3b6-17ea-46dd-9b2d-b8890afeca05"
   },
   "outputs": [
    {
     "data": {
      "image/png": "[encoded data removed]",
      "text/plain": [
       "<Figure size 432x288 with 1 Axes>"
      ]
     },
     "metadata": {
      "needs_background": "light"
     },
     "output_type": "display_data"
    },
    {
     "data": {
      "image/png": "[encoded data removed]",
      "text/plain": [
       "<Figure size 432x288 with 1 Axes>"
      ]
     },
     "metadata": {
      "needs_background": "light"
     },
     "output_type": "display_data"
    }
   ],
   "source": [
    "X, y = get_dataset_1d()\n",
    "\n",
    "max_depth = 1\n",
    "n_estimators = 50\n",
    "nu = 1 # 0.8                            # shrinkage\n",
    "\n",
    "# usual Gradient Boosting call\n",
    "clf = GradientBoostingRegressor(loss='ls', max_depth=max_depth, learning_rate=nu, n_estimators=n_estimators)\n",
    "clf.fit(X, y)\n",
    "f = clf.predict(X)\n",
    "plot_results(X, y, f, 'Gradient Boosting from scikit-learn')\n",
    "\n",
    "# my Gradient Boosting implementation\n",
    "clf = DecisionTreeRegressor(max_depth=max_depth)\n",
    "f = np.mean(y)                      # initialization\n",
    "for m in range(1, n_estimators+1):\n",
    "    f = f + clf.fit(X, y - f).predict(X) * nu # fit to the difference and shrink\n",
    "plot_results(X, y, f, 'My simple Gradient Boosting, the same as above!')"
   ]
  },
  {
   "cell_type": "markdown",
   "metadata": {
    "colab_type": "text",
    "id": "JJK1f9XDcTXb"
   },
   "source": [
    "## Example 2: Gradient Boosting for classification, CatBoost.\n",
    "\n",
    "Lets consider Titanic data! Below is yet another example of easy feature engineering, data preprocessing and the application of Gradient Boosting"
   ]
  },
  {
   "cell_type": "code",
   "execution_count": 5,
   "metadata": {
    "colab": {},
    "colab_type": "code",
    "id": "Bu59fC0hcTXb"
   },
   "outputs": [
    {
     "data": {
      "text/html": [
       "<div>\n",
       "<style scoped>\n",
       "    .dataframe tbody tr th:only-of-type {\n",
       "        vertical-align: middle;\n",
       "    }\n",
       "\n",
       "    .dataframe tbody tr th {\n",
       "        vertical-align: top;\n",
       "    }\n",
       "\n",
       "    .dataframe thead th {\n",
       "        text-align: right;\n",
       "    }\n",
       "</style>\n",
       "<table border=\"1\" class=\"dataframe\">\n",
       "  <thead>\n",
       "    <tr style=\"text-align: right;\">\n",
       "      <th></th>\n",
       "      <th>Pclass</th>\n",
       "      <th>Sex</th>\n",
       "      <th>Age</th>\n",
       "      <th>SibSp</th>\n",
       "      <th>Parch</th>\n",
       "      <th>Fare</th>\n",
       "      <th>Cabin</th>\n",
       "      <th>Embarked</th>\n",
       "    </tr>\n",
       "  </thead>\n",
       "  <tbody>\n",
       "    <tr>\n",
       "      <th>0</th>\n",
       "      <td>3</td>\n",
       "      <td>male</td>\n",
       "      <td>22.0</td>\n",
       "      <td>1</td>\n",
       "      <td>0</td>\n",
       "      <td>7.2500</td>\n",
       "      <td>MISS</td>\n",
       "      <td>S</td>\n",
       "    </tr>\n",
       "    <tr>\n",
       "      <th>1</th>\n",
       "      <td>1</td>\n",
       "      <td>female</td>\n",
       "      <td>38.0</td>\n",
       "      <td>1</td>\n",
       "      <td>0</td>\n",
       "      <td>71.2833</td>\n",
       "      <td>C</td>\n",
       "      <td>C</td>\n",
       "    </tr>\n",
       "    <tr>\n",
       "      <th>2</th>\n",
       "      <td>3</td>\n",
       "      <td>female</td>\n",
       "      <td>26.0</td>\n",
       "      <td>0</td>\n",
       "      <td>0</td>\n",
       "      <td>7.9250</td>\n",
       "      <td>MISS</td>\n",
       "      <td>S</td>\n",
       "    </tr>\n",
       "    <tr>\n",
       "      <th>3</th>\n",
       "      <td>1</td>\n",
       "      <td>female</td>\n",
       "      <td>35.0</td>\n",
       "      <td>1</td>\n",
       "      <td>0</td>\n",
       "      <td>53.1000</td>\n",
       "      <td>C</td>\n",
       "      <td>S</td>\n",
       "    </tr>\n",
       "    <tr>\n",
       "      <th>4</th>\n",
       "      <td>3</td>\n",
       "      <td>male</td>\n",
       "      <td>35.0</td>\n",
       "      <td>0</td>\n",
       "      <td>0</td>\n",
       "      <td>8.0500</td>\n",
       "      <td>MISS</td>\n",
       "      <td>S</td>\n",
       "    </tr>\n",
       "  </tbody>\n",
       "</table>\n",
       "</div>"
      ],
      "text/plain": [
       "   Pclass     Sex   Age  SibSp  Parch     Fare Cabin Embarked\n",
       "0       3    male  22.0      1      0   7.2500  MISS        S\n",
       "1       1  female  38.0      1      0  71.2833     C        C\n",
       "2       3  female  26.0      0      0   7.9250  MISS        S\n",
       "3       1  female  35.0      1      0  53.1000     C        S\n",
       "4       3    male  35.0      0      0   8.0500  MISS        S"
      ]
     },
     "execution_count": 5,
     "metadata": {},
     "output_type": "execute_result"
    }
   ],
   "source": [
    "## load data and some easy preprocessing, even Feature Engineering\n",
    "# we use only training dataset because the Kaggle's testing one does not have class labels \n",
    "# and so we can not measure the model quality\n",
    "\n",
    "X_train = pd.read_csv('https://raw.githubusercontent.com/adasegroup/ML2021_seminars/master/seminar7/data/train.csv')\n",
    "y_train = X_train['Survived']\n",
    "X_train = X_train.drop(['PassengerId', 'Survived', 'Name', 'Ticket'], axis=1)\n",
    "\n",
    "# take only the first letter from the Cabin number, which is maybe the ship level...\n",
    "def keep_only_level_of_cabin(X):\n",
    "    idx = X['Cabin'].notnull()\n",
    "    X.loc[idx, 'Cabin'] = [s.strip()[0] for s in X['Cabin'][idx].values]\n",
    "    return X\n",
    "\n",
    "# CatBoost can not process categorical features with NaN, we set them to the string 'MISS'\n",
    "def change_NaN_to_str(X, cat_features_cols):\n",
    "    for col in cat_features_cols:\n",
    "        idx = X[col].isnull()\n",
    "        X.loc[idx, col] = 'MISS'\n",
    "    return X\n",
    "\n",
    "X_train = keep_only_level_of_cabin(X_train)\n",
    "X_train = change_NaN_to_str(X_train, ['Sex', 'Cabin', 'Embarked'])\n",
    "X_train.head()"
   ]
  },
  {
   "cell_type": "markdown",
   "metadata": {
    "colab_type": "text",
    "id": "EK6KVUekcTXg"
   },
   "source": [
    "### Note: \n",
    "\n",
    "  1. We use categorical features and CatBoost processes it ok.\n",
    "\n",
    "  \n",
    "  2. Below you can see the tuning of CatBoost with cross-validation, you can play with the hyperparameter ranges.\n",
    "  \n",
    "  \n",
    "  3. You can \"unnatural disable\" cross-validation and ensure that the best score increases (although it is impractical because of overfitting).\n",
    "  \n",
    "  \n",
    "  4. CatBoost processes contineous feature 'Age' despite there are NaNs. It is easy for trees - we can, say, just ignore these values.\n",
    "  \n",
    "  \n",
    "  5. We preprocess the 'Cabin' feature so that it has only the level ('C', 'E', ...). \n",
    "  This is so that there would not be a large number of unique noninformative values. And here we process NaNs as special 'MISS' value because it may mean not the incompletness in the data, but that no any proper value can be for some samples (it is highly correlated with 'Pclass' feature).  \n",
    "  \n",
    "  \n",
    "  6. You can play with feature importances: drop the most important feature and check how the accuracy and the roc_auc reduce. Do the same with the least important feature and feel who affects more. "
   ]
  },
  {
   "cell_type": "code",
   "execution_count": 6,
   "metadata": {
    "colab": {
     "base_uri": "https://localhost:8080/",
     "height": 977
    },
    "colab_type": "code",
    "id": "KH9MlZSjcTXh",
    "outputId": "90ef074f-b000-4800-af50-e5ad2d2c3cd7"
   },
   "outputs": [
    {
     "name": "stdout",
     "output_type": "stream",
     "text": [
      "best params: {'learning_rate': 0.1, 'max_depth': 3, 'n_estimators': 100}\n",
      "best score: 0.8584427827309621\n"
     ]
    },
    {
     "data": {
      "image/png": "[encoded data removed]",
      "text/plain": [
       "<Figure size 432x288 with 1 Axes>"
      ]
     },
     "metadata": {
      "needs_background": "light"
     },
     "output_type": "display_data"
    },
    {
     "data": {
      "image/png": "[encoded data removed]",
      "text/plain": [
       "<Figure size 648x432 with 1 Axes>"
      ]
     },
     "metadata": {
      "needs_background": "light"
     },
     "output_type": "display_data"
    }
   ],
   "source": [
    "from catboost import CatBoostClassifier\n",
    "from sklearn.model_selection import GridSearchCV\n",
    "from sklearn.metrics import roc_curve\n",
    "\n",
    "clf = CatBoostClassifier(loss_function = 'Logloss',\n",
    "                         # categorical features processing: \n",
    "                         cat_features  = np.where(X_train.columns.isin(['Sex', 'Cabin', 'Embarked']))[0], \n",
    "                         verbose = 0, thread_count=1, random_state=0)\n",
    "\n",
    "clf = GridSearchCV(clf,\n",
    "                   # you can play with tuning, up to your CPU performance:\n",
    "                   {'max_depth': [1, 3, 5], 'n_estimators': [100], 'learning_rate': [0.1, 1]},\n",
    "                   # cross-validation prevents overfitting! you can disable it by setting \n",
    "                   # cv = [(np.array(range(len(y_train))), np.array(range(len(y_train))))]\n",
    "                   cv = 3, scoring='roc_auc', n_jobs=-1)\n",
    "clf.fit(X_train, y_train)\n",
    "\n",
    "print('best params:', clf.best_params_)\n",
    "print('best score:', clf.best_score_) # validation score\n",
    "\n",
    "# feature importances\n",
    "fi = pd.Series(clf.best_estimator_.feature_importances_, index=X_train.columns)\n",
    "fi.sort_values(ascending=False).plot(kind='bar')\n",
    "plt.title('feature importances')\n",
    "plt.show()\n",
    "\n",
    "# now let's draw different ROC curves\n",
    "plt.figure(figsize=[9, 6])\n",
    "fpr, tpr, _ = roc_curve(y_train, clf.predict_proba(X_train)[:, 1])\n",
    "plt.plot(fpr, tpr, 'r', label='train')\n",
    "fpr, tpr, _ = roc_curve(y_train, clf.predict(X_train))\n",
    "plt.plot(fpr, tpr, '--o', label='binary output, train')\n",
    "plt.legend(bbox_to_anchor=(0.999, 1))\n",
    "plt.title('ROC curves')\n",
    "plt.xlabel('False positive rate')\n",
    "plt.ylabel('True positive rate')\n",
    "plt.show()"
   ]
  },
  {
   "cell_type": "markdown",
   "metadata": {},
   "source": [
    "## Example 3: Gradient Boosting Libraries: CatBoost (above), XGBoost."
   ]
  },
  {
   "cell_type": "code",
   "execution_count": 9,
   "metadata": {},
   "outputs": [
    {
     "name": "stdout",
     "output_type": "stream",
     "text": [
      "Sex: ['male' 'female'] , Cabin: [nan 'C' 'E' 'G' 'D' 'A' 'B' 'F' 'T'] , Embarked: ['S' 'C' 'Q' nan]\n"
     ]
    },
    {
     "data": {
      "text/html": [
       "<div>\n",
       "<style scoped>\n",
       "    .dataframe tbody tr th:only-of-type {\n",
       "        vertical-align: middle;\n",
       "    }\n",
       "\n",
       "    .dataframe tbody tr th {\n",
       "        vertical-align: top;\n",
       "    }\n",
       "\n",
       "    .dataframe thead th {\n",
       "        text-align: right;\n",
       "    }\n",
       "</style>\n",
       "<table border=\"1\" class=\"dataframe\">\n",
       "  <thead>\n",
       "    <tr style=\"text-align: right;\">\n",
       "      <th></th>\n",
       "      <th>Pclass</th>\n",
       "      <th>Sex</th>\n",
       "      <th>Age</th>\n",
       "      <th>SibSp</th>\n",
       "      <th>Parch</th>\n",
       "      <th>Fare</th>\n",
       "      <th>Cabin_C</th>\n",
       "      <th>Cabin_E</th>\n",
       "      <th>Cabin_G</th>\n",
       "      <th>Cabin_D</th>\n",
       "      <th>Cabin_A</th>\n",
       "      <th>Cabin_B</th>\n",
       "      <th>Cabin_F</th>\n",
       "      <th>Cabin_T</th>\n",
       "      <th>Embarked_S</th>\n",
       "      <th>Embarked_C</th>\n",
       "      <th>Embarked_Q</th>\n",
       "    </tr>\n",
       "  </thead>\n",
       "  <tbody>\n",
       "    <tr>\n",
       "      <th>0</th>\n",
       "      <td>3</td>\n",
       "      <td>True</td>\n",
       "      <td>22.0</td>\n",
       "      <td>1</td>\n",
       "      <td>0</td>\n",
       "      <td>7.2500</td>\n",
       "      <td>0.0</td>\n",
       "      <td>0.0</td>\n",
       "      <td>0.0</td>\n",
       "      <td>0.0</td>\n",
       "      <td>0.0</td>\n",
       "      <td>0.0</td>\n",
       "      <td>0.0</td>\n",
       "      <td>0.0</td>\n",
       "      <td>1.0</td>\n",
       "      <td>0.0</td>\n",
       "      <td>0.0</td>\n",
       "    </tr>\n",
       "    <tr>\n",
       "      <th>1</th>\n",
       "      <td>1</td>\n",
       "      <td>False</td>\n",
       "      <td>38.0</td>\n",
       "      <td>1</td>\n",
       "      <td>0</td>\n",
       "      <td>71.2833</td>\n",
       "      <td>1.0</td>\n",
       "      <td>0.0</td>\n",
       "      <td>0.0</td>\n",
       "      <td>0.0</td>\n",
       "      <td>0.0</td>\n",
       "      <td>0.0</td>\n",
       "      <td>0.0</td>\n",
       "      <td>0.0</td>\n",
       "      <td>0.0</td>\n",
       "      <td>1.0</td>\n",
       "      <td>0.0</td>\n",
       "    </tr>\n",
       "    <tr>\n",
       "      <th>2</th>\n",
       "      <td>3</td>\n",
       "      <td>False</td>\n",
       "      <td>26.0</td>\n",
       "      <td>0</td>\n",
       "      <td>0</td>\n",
       "      <td>7.9250</td>\n",
       "      <td>0.0</td>\n",
       "      <td>0.0</td>\n",
       "      <td>0.0</td>\n",
       "      <td>0.0</td>\n",
       "      <td>0.0</td>\n",
       "      <td>0.0</td>\n",
       "      <td>0.0</td>\n",
       "      <td>0.0</td>\n",
       "      <td>1.0</td>\n",
       "      <td>0.0</td>\n",
       "      <td>0.0</td>\n",
       "    </tr>\n",
       "    <tr>\n",
       "      <th>3</th>\n",
       "      <td>1</td>\n",
       "      <td>False</td>\n",
       "      <td>35.0</td>\n",
       "      <td>1</td>\n",
       "      <td>0</td>\n",
       "      <td>53.1000</td>\n",
       "      <td>1.0</td>\n",
       "      <td>0.0</td>\n",
       "      <td>0.0</td>\n",
       "      <td>0.0</td>\n",
       "      <td>0.0</td>\n",
       "      <td>0.0</td>\n",
       "      <td>0.0</td>\n",
       "      <td>0.0</td>\n",
       "      <td>1.0</td>\n",
       "      <td>0.0</td>\n",
       "      <td>0.0</td>\n",
       "    </tr>\n",
       "    <tr>\n",
       "      <th>4</th>\n",
       "      <td>3</td>\n",
       "      <td>True</td>\n",
       "      <td>35.0</td>\n",
       "      <td>0</td>\n",
       "      <td>0</td>\n",
       "      <td>8.0500</td>\n",
       "      <td>0.0</td>\n",
       "      <td>0.0</td>\n",
       "      <td>0.0</td>\n",
       "      <td>0.0</td>\n",
       "      <td>0.0</td>\n",
       "      <td>0.0</td>\n",
       "      <td>0.0</td>\n",
       "      <td>0.0</td>\n",
       "      <td>1.0</td>\n",
       "      <td>0.0</td>\n",
       "      <td>0.0</td>\n",
       "    </tr>\n",
       "  </tbody>\n",
       "</table>\n",
       "</div>"
      ],
      "text/plain": [
       "   Pclass    Sex   Age  SibSp  Parch     Fare  Cabin_C  Cabin_E  Cabin_G  \\\n",
       "0       3   True  22.0      1      0   7.2500      0.0      0.0      0.0   \n",
       "1       1  False  38.0      1      0  71.2833      1.0      0.0      0.0   \n",
       "2       3  False  26.0      0      0   7.9250      0.0      0.0      0.0   \n",
       "3       1  False  35.0      1      0  53.1000      1.0      0.0      0.0   \n",
       "4       3   True  35.0      0      0   8.0500      0.0      0.0      0.0   \n",
       "\n",
       "   Cabin_D  Cabin_A  Cabin_B  Cabin_F  Cabin_T  Embarked_S  Embarked_C  \\\n",
       "0      0.0      0.0      0.0      0.0      0.0         1.0         0.0   \n",
       "1      0.0      0.0      0.0      0.0      0.0         0.0         1.0   \n",
       "2      0.0      0.0      0.0      0.0      0.0         1.0         0.0   \n",
       "3      0.0      0.0      0.0      0.0      0.0         1.0         0.0   \n",
       "4      0.0      0.0      0.0      0.0      0.0         1.0         0.0   \n",
       "\n",
       "   Embarked_Q  \n",
       "0         0.0  \n",
       "1         0.0  \n",
       "2         0.0  \n",
       "3         0.0  \n",
       "4         0.0  "
      ]
     },
     "execution_count": 9,
     "metadata": {},
     "output_type": "execute_result"
    }
   ],
   "source": [
    "from sklearn.preprocessing import OneHotEncoder\n",
    "\n",
    "X_train = pd.read_csv('https://raw.githubusercontent.com/adasegroup/ML2021_seminars/master/seminar7/data/train.csv')\n",
    "y_train = X_train['Survived']\n",
    "X_train = X_train.drop(['PassengerId', 'Survived', 'Name', 'Ticket'], axis=1)\n",
    "\n",
    "X_train = keep_only_level_of_cabin(X_train)\n",
    "\n",
    "# there are also NaN values!\n",
    "print('Sex:', X_train['Sex'].unique(), ', Cabin:', X_train['Cabin'].unique(), ', Embarked:', X_train['Embarked'].unique())\n",
    "\n",
    "X_train['Sex'] = X_train['Sex'] == 'male' # binary feature - its easy!\n",
    "\n",
    "# use OneHotEncoder to work with categorial features: \n",
    "ohe = OneHotEncoder(sparse=False, handle_unknown='ignore', categories=[['C', 'E', 'G', 'D', 'A', 'B', 'F', 'T'], ['S', 'C', 'Q']])\n",
    "new_features = pd.DataFrame(ohe.fit_transform(X_train[['Cabin', 'Embarked']]), \n",
    "                            columns = ohe.get_feature_names(['Cabin', 'Embarked']), index=X_train.index)\n",
    "X_train = pd.concat((X_train, new_features), axis=1, sort=False).drop(['Cabin', 'Embarked'], axis=1)\n",
    "X_train.head()"
   ]
  },
  {
   "cell_type": "code",
   "execution_count": 8,
   "metadata": {},
   "outputs": [
    {
     "name": "stdout",
     "output_type": "stream",
     "text": [
      "best params: {'learning_rate': 0.1, 'max_depth': 3, 'n_estimators': 100}\n",
      "best score: 0.8583309366311956\n"
     ]
    },
    {
     "data": {
      "image/png": "[encoded data removed]",
      "text/plain": [
       "<Figure size 432x288 with 1 Axes>"
      ]
     },
     "metadata": {
      "needs_background": "light"
     },
     "output_type": "display_data"
    },
    {
     "data": {
      "image/png": "[encoded data removed]",
      "text/plain": [
       "<Figure size 648x432 with 1 Axes>"
      ]
     },
     "metadata": {
      "needs_background": "light"
     },
     "output_type": "display_data"
    }
   ],
   "source": [
    "import xgboost.sklearn as xgb\n",
    "clf = GridSearchCV(xgb.XGBClassifier(loss = 'binary:logistic', nthread=1, random_state=0),\n",
    "                   # you can play with tuning, up to your CPU performance:\n",
    "                   {'max_depth': [1, 3, 5], 'n_estimators': [100], 'learning_rate': [0.1, 1]},\n",
    "                   # cross-validation prevents overfitting! you can disable it by setting \n",
    "                   # cv = [(np.array(range(len(y_train))), np.array(range(len(y_train))))]\n",
    "                   cv = 3, scoring='roc_auc', n_jobs=-1)\n",
    "clf.fit(X_train, y_train)\n",
    "\n",
    "print('best params:', clf.best_params_)\n",
    "print('best score:', clf.best_score_) # validation score\n",
    "\n",
    "# feature importances\n",
    "fi = pd.Series(clf.best_estimator_.feature_importances_, index=X_train.columns)\n",
    "fi.sort_values(ascending=False).plot(kind='bar')\n",
    "plt.title('feature importances')\n",
    "plt.show()\n",
    "\n",
    "# now let's draw different ROC curves\n",
    "plt.figure(figsize=[9, 6])\n",
    "fpr, tpr, _ = roc_curve(y_train, clf.predict_proba(X_train)[:, 1])\n",
    "plt.plot(fpr, tpr, 'r')\n",
    "plt.title('ROC curve')\n",
    "plt.xlabel('False positive rate')\n",
    "plt.ylabel('True positive rate')\n",
    "plt.show()\n"
   ]
  },
  {
   "cell_type": "code",
   "execution_count": null,
   "metadata": {},
   "outputs": [],
   "source": []
  }
 ],
 "metadata": {
  "colab": {
   "name": "seminar_GB_solutions.ipynb",
   "provenance": []
  },
  "kernelspec": {
   "display_name": "Python 3",
   "language": "python",
   "name": "python3"
  },
  "language_info": {
   "codemirror_mode": {
    "name": "ipython",
    "version": 3
   },
   "file_extension": ".py",
   "mimetype": "text/x-python",
   "name": "python",
   "nbconvert_exporter": "python",
   "pygments_lexer": "ipython3",
   "version": "3.7.1"
  }
 },
 "nbformat": 4,
 "nbformat_minor": 1
}
